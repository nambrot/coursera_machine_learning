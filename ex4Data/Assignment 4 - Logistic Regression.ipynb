{
 "cells": [
  {
   "cell_type": "code",
   "execution_count": 1,
   "metadata": {
    "collapsed": false
   },
   "outputs": [
    {
     "name": "stderr",
     "output_type": "stream",
     "text": [
      "/usr/local/lib/python2.7/dist-packages/matplotlib/font_manager.py:273: UserWarning: Matplotlib is building the font cache using fc-list. This may take a moment.\n",
      "  warnings.warn('Matplotlib is building the font cache using fc-list. This may take a moment.')\n"
     ]
    },
    {
     "data": {
      "text/plain": [
       "[<matplotlib.lines.Line2D at 0x7f8d74700fd0>]"
      ]
     },
     "execution_count": 1,
     "metadata": {},
     "output_type": "execute_result"
    },
    {
     "data": {
      "image/png": "[encoded data removed]",
      "text/plain": [
       "<matplotlib.figure.Figure at 0x7f8d74705090>"
      ]
     },
     "metadata": {},
     "output_type": "display_data"
    }
   ],
   "source": [
    "%matplotlib inline\n",
    "import numpy as np\n",
    "import matplotlib.pyplot as plt\n",
    "m = 80\n",
    "n = 2\n",
    "\n",
    "raw_x = np.loadtxt('ex4x.dat').astype(np.float64)\n",
    "raw_y = np.loadtxt('ex4y.dat').astype(np.float64)\n",
    "\n",
    "merged = np.concatenate((raw_x, raw_y.reshape((m, 1))), axis=1)\n",
    "admitted = merged[merged[:, 2] == 1, :]\n",
    "not_admitted = merged[merged[:, 2] == 0, :]\n",
    "\n",
    "plt.plot(admitted[:, 0], admitted[:, 1], 'x')\n",
    "plt.plot(not_admitted[:, 0], not_admitted[:, 1], 'o')"
   ]
  },
  {
   "cell_type": "code",
   "execution_count": 2,
   "metadata": {
    "collapsed": false
   },
   "outputs": [
    {
     "data": {
      "text/plain": [
       "<tf.Tensor 'MatMul_2:0' shape=(80, 1) dtype=float64>"
      ]
     },
     "execution_count": 2,
     "metadata": {},
     "output_type": "execute_result"
    }
   ],
   "source": [
    "import tensorflow as tf\n",
    "\n",
    "x = tf.constant(np.concatenate((np.ones((m, 1)), raw_x), axis = 1))\n",
    "xt = tf.transpose(x)\n",
    "T = tf.Variable(tf.zeros([1, n + 1], dtype=tf.float64))\n",
    "Tt = tf.transpose(T)\n",
    "h0 = tf.sigmoid(tf.matmul(x, Tt))\n",
    "\n",
    "tf.matmul(tf.matmul(x, xt), (1 - h0))\n"
   ]
  },
  {
   "cell_type": "code",
   "execution_count": null,
   "metadata": {
    "collapsed": true
   },
   "outputs": [],
   "source": []
  }
 ],
 "metadata": {
  "kernelspec": {
   "display_name": "Python 2",
   "language": "python",
   "name": "python2"
  },
  "language_info": {
   "codemirror_mode": {
    "name": "ipython",
    "version": 2
   },
   "file_extension": ".py",
   "mimetype": "text/x-python",
   "name": "python",
   "nbconvert_exporter": "python",
   "pygments_lexer": "ipython2",
   "version": "2.7.6"
  }
 },
 "nbformat": 4,
 "nbformat_minor": 1
}
