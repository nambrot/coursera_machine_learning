{
 "cells": [
  {
   "cell_type": "code",
   "execution_count": 1,
   "metadata": {
    "collapsed": false
   },
   "outputs": [],
   "source": [
    "%matplotlib inline\n",
    "import numpy as np\n",
    "import scipy.io\n",
    "import matplotlib.pyplot as plt\n",
    "import tensorflow as tf\n",
    "\n",
    "mat = scipy.io.loadmat('ex8_movieParams.mat')\n",
    "preX = mat['X']\n",
    "preT = mat['Theta']\n",
    "mat = scipy.io.loadmat('ex8_movies.mat')\n"
   ]
  },
  {
   "cell_type": "code",
   "execution_count": 13,
   "metadata": {
    "collapsed": false
   },
   "outputs": [
    {
     "data": {
      "text/plain": [
       "[<matplotlib.lines.Line2D at 0x7f97c8013a50>,\n",
       " <matplotlib.lines.Line2D at 0x7f97c8013c10>]"
      ]
     },
     "execution_count": 13,
     "metadata": {},
     "output_type": "execute_result"
    },
    {
     "data": {
      "image/png": "[encoded data removed]",
      "text/plain": [
       "<matplotlib.figure.Figure at 0x7f97cb20bf10>"
      ]
     },
     "metadata": {},
     "output_type": "display_data"
    }
   ],
   "source": [
    "n = 100\n",
    "nm = 1682\n",
    "nu = 943\n",
    "Y = tf.constant(mat['Y'], tf.float64)\n",
    "R = tf.constant(mat['R'], tf.float64)\n",
    "X = tf.Variable(tf.random_uniform((nm, n), 0, 0.001, tf.float64))\n",
    "T = tf.Variable(tf.random_uniform((nu, n), 0, 0.001, tf.float64))\n",
    "h0 = tf.matmul(X, tf.transpose(T))\n",
    "J = tf.reduce_sum(R * ((h0 - Y) ** 2)) / 2\n",
    "train = tf.train.MomentumOptimizer(0.0009, 0.3).minimize(J)\n",
    "\n",
    "init = tf.initialize_all_variables()\n",
    "sess = tf.Session()\n",
    "sess.run(init)\n",
    "costs = []\n",
    "for i in range(2300):\n",
    "    _, cost = sess.run([train, J])\n",
    "    costs.append([i, cost])\n",
    "plt.plot(costs)\n"
   ]
  },
  {
   "cell_type": "code",
   "execution_count": 14,
   "metadata": {
    "collapsed": false
   },
   "outputs": [
    {
     "data": {
      "text/plain": [
       "43.495165320660853"
      ]
     },
     "execution_count": 14,
     "metadata": {},
     "output_type": "execute_result"
    }
   ],
   "source": [
    "sess.run(J)"
   ]
  },
  {
   "cell_type": "code",
   "execution_count": 16,
   "metadata": {
    "collapsed": false
   },
   "outputs": [
    {
     "data": {
      "text/plain": [
       "<tf.Tensor 'transpose_6:0' shape=(100, 1682) dtype=float64>"
      ]
     },
     "execution_count": 16,
     "metadata": {},
     "output_type": "execute_result"
    }
   ],
   "source": [
    "tf.transpose(X)"
   ]
  },
  {
   "cell_type": "code",
   "execution_count": 17,
   "metadata": {
    "collapsed": false
   },
   "outputs": [
    {
     "data": {
      "text/plain": [
       "<tf.Tensor 'transpose_7:0' shape=(100, 943) dtype=float64>"
      ]
     },
     "execution_count": 17,
     "metadata": {},
     "output_type": "execute_result"
    }
   ],
   "source": [
    "tf.transpose(T)"
   ]
  },
  {
   "cell_type": "code",
   "execution_count": 21,
   "metadata": {
    "collapsed": false
   },
   "outputs": [],
   "source": [
    "movies = open('movie_ids.txt').readlines()"
   ]
  },
  {
   "cell_type": "code",
   "execution_count": 52,
   "metadata": {
    "collapsed": false
   },
   "outputs": [],
   "source": [
    "new_r = mat['R'][120]\n",
    "new_y = mat['Y'][120]\n",
    "    "
   ]
  },
  {
   "cell_type": "code",
   "execution_count": 55,
   "metadata": {
    "collapsed": false
   },
   "outputs": [
    {
     "data": {
      "text/plain": [
       "array([4, 0, 0, 0, 4, 0, 5, 0, 0, 0, 3, 0, 5, 3, 3, 0, 0, 0, 0, 3, 1, 3, 0,\n",
       "       0, 4, 3, 4, 0, 0, 0, 0, 0, 0, 0, 0, 0, 2, 0, 0, 0, 0, 4, 4, 4, 4, 0,\n",
       "       0, 0, 1, 0, 0, 4, 4, 4, 3, 5, 4, 2, 4, 4, 0, 4, 1, 2, 4, 3, 4, 1, 0,\n",
       "       3, 0, 3, 0, 4, 4, 2, 2, 0, 0, 0, 4, 4, 4, 4, 2, 0, 5, 0, 5, 0, 0, 5,\n",
       "       3, 2, 4, 0, 0, 0, 3, 0, 4, 3, 3, 2, 0, 0, 0, 3, 5, 0, 0, 0, 0, 0, 3,\n",
       "       0, 4, 0, 4, 4, 2, 0, 0, 0, 0, 0, 0, 4, 0, 5, 0, 0, 0, 0, 0, 0, 5, 4,\n",
       "       0, 0, 4, 0, 0, 0, 2, 0, 0, 0, 0, 2, 5, 5, 0, 0, 0, 0, 0, 4, 3, 0, 0,\n",
       "       4, 0, 5, 0, 0, 0, 4, 0, 0, 0, 0, 0, 0, 0, 0, 2, 5, 0, 5, 4, 3, 3, 2,\n",
       "       0, 2, 0, 4, 2, 3, 0, 2, 3, 2, 0, 0, 0, 3, 0, 5, 2, 0, 0, 0, 0, 0, 3,\n",
       "       0, 0, 4, 0, 0, 5, 4, 0, 0, 1, 0, 0, 0, 2, 3, 3, 0, 0, 0, 2, 0, 0, 4,\n",
       "       4, 0, 4, 0, 0, 0, 0, 4, 0, 0, 0, 0, 0, 1, 0, 4, 4, 2, 3, 0, 4, 0, 5,\n",
       "       3, 2, 5, 3, 0, 3, 0, 0, 3, 0, 0, 0, 0, 3, 2, 1, 4, 2, 0, 0, 0, 3, 4,\n",
       "       2, 0, 4, 0, 0, 0, 0, 0, 0, 3, 4, 2, 3, 4, 2, 0, 3, 5, 4, 5, 0, 4, 0,\n",
       "       0, 4, 0, 3, 0, 3, 0, 1, 3, 0, 0, 4, 3, 4, 4, 2, 0, 0, 1, 0, 5, 0, 0,\n",
       "       3, 0, 0, 0, 2, 4, 0, 4, 0, 5, 0, 3, 0, 4, 5, 0, 3, 0, 0, 0, 2, 3, 3,\n",
       "       4, 3, 5, 2, 0, 0, 0, 0, 0, 0, 0, 5, 0, 4, 0, 2, 0, 2, 0, 0, 0, 0, 0,\n",
       "       0, 0, 0, 0, 0, 4, 0, 0, 0, 4, 0, 3, 2, 0, 0, 0, 0, 3, 2, 4, 0, 0, 0,\n",
       "       0, 4, 4, 3, 5, 0, 0, 3, 0, 3, 0, 5, 0, 0, 5, 4, 0, 0, 0, 0, 0, 0, 0,\n",
       "       0, 5, 3, 0, 0, 0, 0, 0, 0, 0, 4, 0, 0, 0, 3, 2, 0, 4, 0, 4, 3, 0, 3,\n",
       "       5, 2, 0, 4, 2, 0, 0, 1, 0, 5, 0, 0, 3, 0, 5, 0, 4, 4, 2, 4, 1, 5, 0,\n",
       "       2, 0, 3, 0, 0, 3, 0, 4, 0, 0, 0, 5, 0, 4, 0, 0, 0, 0, 4, 0, 0, 0, 2,\n",
       "       4, 0, 3, 4, 0, 0, 0, 0, 0, 5, 4, 5, 0, 4, 2, 0, 3, 4, 0, 3, 4, 4, 0,\n",
       "       5, 2, 0, 0, 0, 0, 5, 0, 0, 0, 0, 5, 0, 0, 2, 0, 0, 0, 4, 2, 0, 0, 0,\n",
       "       0, 0, 4, 4, 4, 4, 4, 1, 3, 0, 2, 3, 2, 0, 0, 5, 5, 0, 5, 4, 5, 5, 4,\n",
       "       0, 4, 3, 0, 0, 0, 0, 3, 3, 0, 0, 4, 0, 3, 0, 0, 3, 0, 0, 2, 0, 0, 0,\n",
       "       0, 5, 0, 0, 4, 0, 3, 0, 0, 0, 5, 0, 5, 0, 0, 0, 4, 4, 0, 2, 0, 0, 0,\n",
       "       0, 0, 2, 4, 0, 0, 1, 4, 2, 0, 0, 0, 0, 0, 0, 4, 0, 0, 0, 4, 5, 5, 3,\n",
       "       1, 4, 3, 3, 0, 3, 0, 0, 4, 0, 0, 3, 5, 0, 5, 4, 4, 0, 0, 0, 5, 4, 5,\n",
       "       0, 0, 4, 5, 2, 3, 0, 0, 4, 4, 3, 0, 0, 0, 4, 2, 2, 0, 4, 3, 2, 3, 0,\n",
       "       0, 3, 0, 4, 0, 0, 4, 0, 0, 0, 0, 2, 3, 0, 4, 0, 3, 0, 0, 0, 0, 5, 3,\n",
       "       0, 0, 2, 5, 0, 0, 4, 2, 3, 0, 0, 0, 5, 0, 5, 0, 0, 3, 4, 0, 1, 0, 0,\n",
       "       4, 4, 5, 2, 4, 1, 0, 0, 5, 0, 0, 0, 0, 4, 0, 0, 4, 0, 0, 3, 4, 0, 0,\n",
       "       0, 4, 0, 0, 2, 0, 0, 0, 0, 3, 0, 0, 3, 0, 4, 0, 0, 0, 0, 3, 2, 2, 5,\n",
       "       0, 0, 0, 0, 5, 0, 0, 0, 4, 4, 0, 0, 0, 2, 1, 0, 0, 0, 3, 3, 0, 0, 0,\n",
       "       0, 0, 0, 2, 0, 4, 0, 3, 0, 4, 3, 0, 3, 5, 0, 5, 0, 4, 0, 0, 0, 4, 3,\n",
       "       4, 4, 0, 0, 0, 0, 0, 0, 0, 2, 0, 3, 0, 0, 0, 3, 0, 0, 0, 5, 0, 0, 0,\n",
       "       0, 0, 0, 0, 1, 0, 0, 0, 0, 2, 3, 2, 0, 0, 3, 3, 0, 0, 3, 4, 5, 5, 4,\n",
       "       4, 0, 1, 0, 0, 0, 0, 0, 0, 0, 5, 0, 4, 1, 0, 0, 2, 0, 0, 4, 4, 0, 0,\n",
       "       0, 0, 0, 0, 4, 2, 5, 4, 0, 0, 0, 0, 5, 0, 4, 2, 4, 4, 4, 3, 0, 3, 5,\n",
       "       0, 5, 2, 4, 0, 3, 0, 0, 4, 4, 0, 0, 1, 0, 0, 0, 0, 0, 3, 1, 0, 0, 0,\n",
       "       5, 0, 4, 4, 0, 0, 5, 0, 0, 4, 2, 3, 3, 3, 4, 4, 0, 5, 5, 0, 0, 0, 3], dtype=uint8)"
      ]
     },
     "execution_count": 55,
     "metadata": {},
     "output_type": "execute_result"
    }
   ],
   "source": [
    "new_y"
   ]
  },
  {
   "cell_type": "code",
   "execution_count": 50,
   "metadata": {
    "collapsed": false
   },
   "outputs": [
    {
     "ename": "ValueError",
     "evalue": "invalid literal for int() with base 10: 'V)\\n'",
     "output_type": "error",
     "traceback": [
      "\u001b[0;31m---------------------------------------------------------------------------\u001b[0m",
      "\u001b[0;31mValueError\u001b[0m                                Traceback (most recent call last)",
      "\u001b[0;32m<ipython-input-50-002a612b3bd2>\u001b[0m in \u001b[0;36m<module>\u001b[0;34m()\u001b[0m\n\u001b[0;32m----> 1\u001b[0;31m \u001b[0mmap\u001b[0m\u001b[0;34m(\u001b[0m\u001b[0;32mlambda\u001b[0m \u001b[0ma\u001b[0m\u001b[0;34m:\u001b[0m \u001b[0mint\u001b[0m\u001b[0;34m(\u001b[0m\u001b[0ma\u001b[0m\u001b[0;34m.\u001b[0m\u001b[0msplit\u001b[0m\u001b[0;34m(\u001b[0m\u001b[0;34m'('\u001b[0m\u001b[0;34m)\u001b[0m\u001b[0;34m[\u001b[0m\u001b[0;34m-\u001b[0m\u001b[0;36m1\u001b[0m\u001b[0;34m]\u001b[0m\u001b[0;34m[\u001b[0m\u001b[0;36m0\u001b[0m\u001b[0;34m:\u001b[0m\u001b[0;36m4\u001b[0m\u001b[0;34m]\u001b[0m\u001b[0;34m)\u001b[0m\u001b[0;34m,\u001b[0m \u001b[0mmovies\u001b[0m\u001b[0;34m)\u001b[0m\u001b[0;34m\u001b[0m\u001b[0m\n\u001b[0m",
      "\u001b[0;32m<ipython-input-50-002a612b3bd2>\u001b[0m in \u001b[0;36m<lambda>\u001b[0;34m(a)\u001b[0m\n\u001b[0;32m----> 1\u001b[0;31m \u001b[0mmap\u001b[0m\u001b[0;34m(\u001b[0m\u001b[0;32mlambda\u001b[0m \u001b[0ma\u001b[0m\u001b[0;34m:\u001b[0m \u001b[0mint\u001b[0m\u001b[0;34m(\u001b[0m\u001b[0ma\u001b[0m\u001b[0;34m.\u001b[0m\u001b[0msplit\u001b[0m\u001b[0;34m(\u001b[0m\u001b[0;34m'('\u001b[0m\u001b[0;34m)\u001b[0m\u001b[0;34m[\u001b[0m\u001b[0;34m-\u001b[0m\u001b[0;36m1\u001b[0m\u001b[0;34m]\u001b[0m\u001b[0;34m[\u001b[0m\u001b[0;36m0\u001b[0m\u001b[0;34m:\u001b[0m\u001b[0;36m4\u001b[0m\u001b[0;34m]\u001b[0m\u001b[0;34m)\u001b[0m\u001b[0;34m,\u001b[0m \u001b[0mmovies\u001b[0m\u001b[0;34m)\u001b[0m\u001b[0;34m\u001b[0m\u001b[0m\n\u001b[0m",
      "\u001b[0;31mValueError\u001b[0m: invalid literal for int() with base 10: 'V)\\n'"
     ]
    }
   ],
   "source": [
    "map(lambda a: int(a.split('(')[-1][0:4]), movies)"
   ]
  },
  {
   "cell_type": "code",
   "execution_count": 49,
   "metadata": {
    "collapsed": false
   },
   "outputs": [
    {
     "data": {
      "text/plain": [
       "3000"
      ]
     },
     "execution_count": 49,
     "metadata": {},
     "output_type": "execute_result"
    }
   ],
   "source": [
    "int('3000')"
   ]
  },
  {
   "cell_type": "code",
   "execution_count": null,
   "metadata": {
    "collapsed": true
   },
   "outputs": [],
   "source": []
  }
 ],
 "metadata": {
  "kernelspec": {
   "display_name": "Python 2",
   "language": "python",
   "name": "python2"
  },
  "language_info": {
   "codemirror_mode": {
    "name": "ipython",
    "version": 2
   },
   "file_extension": ".py",
   "mimetype": "text/x-python",
   "name": "python",
   "nbconvert_exporter": "python",
   "pygments_lexer": "ipython2",
   "version": "2.7.6"
  }
 },
 "nbformat": 4,
 "nbformat_minor": 1
}
