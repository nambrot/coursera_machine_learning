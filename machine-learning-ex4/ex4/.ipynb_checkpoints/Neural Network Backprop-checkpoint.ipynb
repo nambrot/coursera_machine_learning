{
 "cells": [
  {
   "cell_type": "code",
   "execution_count": 1,
   "metadata": {
    "collapsed": false
   },
   "outputs": [
    {
     "data": {
      "text/plain": [
       "<matplotlib.image.AxesImage at 0x7f116eaac750>"
      ]
     },
     "execution_count": 1,
     "metadata": {},
     "output_type": "execute_result"
    },
    {
     "data": {
      "image/png": "[encoded data removed]",
      "text/plain": [
       "<matplotlib.figure.Figure at 0x7f116ec5a950>"
      ]
     },
     "metadata": {},
     "output_type": "display_data"
    }
   ],
   "source": [
    "%matplotlib inline\n",
    "import numpy as np\n",
    "import scipy.io\n",
    "import matplotlib.pyplot as plt\n",
    "import tensorflow as tf\n",
    "m = 5000\n",
    "n = 400\n",
    "alpha = 0.0011\n",
    "mat = scipy.io.loadmat('ex4data1.mat')\n",
    "x = mat['X'][0:m]\n",
    "y = mat['y'][0:m]\n",
    "\n",
    "number_of_hidden_units = 25\n",
    "number_of_classes = 10\n",
    "\n",
    "\n",
    "mat = scipy.io.loadmat('ex4weights.mat')\n",
    "\n",
    "# # print a sample digit\n",
    "plt.figure(1)\n",
    "plt.subplot(251)\n",
    "plt.axis('off')\n",
    "plt.imshow(x[1200].reshape((20, 20)), cmap='gray')\n",
    "plt.subplot(252)\n",
    "plt.axis('off')\n",
    "plt.imshow(x[101].reshape((20, 20)), cmap='gray')\n",
    "plt.subplot(253)\n",
    "plt.axis('off')\n",
    "plt.imshow(x[1012].reshape((20, 20)), cmap='gray')\n",
    "\n"
   ]
  },
  {
   "cell_type": "markdown",
   "metadata": {},
   "source": [
    "# Forward Feeding"
   ]
  },
  {
   "cell_type": "code",
   "execution_count": 2,
   "metadata": {
    "collapsed": false
   },
   "outputs": [
    {
     "data": {
      "text/plain": [
       "0.28762916516131898"
      ]
     },
     "execution_count": 2,
     "metadata": {},
     "output_type": "execute_result"
    }
   ],
   "source": [
    "theta = tf.Variable(tf.random_uniform([(n + 1) * number_of_hidden_units + (number_of_hidden_units + 1) * number_of_classes], -0.12, 0.12, dtype=tf.float64)) #\n",
    "\n",
    "input_layer = tf.Variable(tf.concat(1, [tf.ones([m, 1], tf.float64), x]))\n",
    "Y = tf.slice(tf.reshape(tf.one_hot(y, 11, dtype=tf.float64), [m, 11]), [0, 1], [-1, 10])\n",
    "theta1 = tf.Variable(mat['Theta1'])\n",
    "z2 = tf.matmul(input_layer, tf.transpose(theta1))\n",
    "hidden_layer = tf.concat(1, [tf.ones([m, 1], tf.float64), tf.sigmoid(z2)])\n",
    "theta2 = tf.Variable(mat['Theta2'])\n",
    "output_layer = tf.sigmoid(tf.matmul(hidden_layer, tf.transpose(theta2)))\n",
    "\n",
    "h = output_layer\n",
    "cost = tf.reduce_sum(-Y * tf.log(h) - (1 - Y) * tf.log(1 - h)) / m\n",
    "\n",
    "init = tf.initialize_all_variables()\n",
    "sess = tf.Session()\n",
    "sess.run(init)\n",
    "sess.run(cost)"
   ]
  },
  {
   "cell_type": "markdown",
   "metadata": {},
   "source": [
    "\n",
    "# Regularize"
   ]
  },
  {
   "cell_type": "code",
   "execution_count": 3,
   "metadata": {
    "collapsed": false
   },
   "outputs": [
    {
     "data": {
      "text/plain": [
       "0.38448779624289398"
      ]
     },
     "execution_count": 3,
     "metadata": {},
     "output_type": "execute_result"
    }
   ],
   "source": [
    "l = 1.0\n",
    "cost = tf.reduce_sum(-Y * tf.log(h) - (1 - Y) * tf.log(1 - h)) / m + l * (tf.reduce_sum(theta1 ** 2) + tf.reduce_sum(theta2 ** 2)) / 2 / m\n",
    "sess.run(cost)"
   ]
  },
  {
   "cell_type": "markdown",
   "metadata": {},
   "source": [
    "# Backprop"
   ]
  },
  {
   "cell_type": "code",
   "execution_count": 4,
   "metadata": {
    "collapsed": false
   },
   "outputs": [
    {
     "name": "stdout",
     "output_type": "stream",
     "text": [
      "Accuracy: %f 0.9998\n"
     ]
    },
    {
     "data": {
      "image/png": "[encoded data removed]",
      "text/plain": [
       "<matplotlib.figure.Figure at 0x7f116e968c10>"
      ]
     },
     "metadata": {},
     "output_type": "display_data"
    }
   ],
   "source": [
    "def siggrad(el):\n",
    "    return tf.sigmoid(el) * (1 - tf.sigmoid(el))\n",
    "\n",
    "number_of_hidden_units = 25\n",
    "number_of_classes = 10\n",
    "\n",
    "Delta1 = tf.Variable(tf.zeros((number_of_hidden_units,n+1), dtype=tf.float64))\n",
    "Delta2 = tf.Variable(tf.zeros((number_of_classes,number_of_hidden_units+1), dtype=tf.float64))\n",
    "\n",
    "theta1 = tf.Variable(tf.random_uniform([number_of_hidden_units, n+1], 0, 0.12, dtype=tf.float64))\n",
    "theta2 = tf.Variable(tf.random_uniform([number_of_classes, number_of_hidden_units + 1], 0, 0.12, dtype=tf.float64))\n",
    "\n",
    "input_layer = tf.Variable(tf.concat(1, [tf.ones([m, 1], tf.float64), x]))\n",
    "Y = tf.slice(tf.reshape(tf.one_hot(y, 11, dtype=tf.float64), [m, 11]), [0, 1], [-1, 10])\n",
    "\n",
    "z2 = tf.matmul(input_layer, tf.transpose(theta1))\n",
    "a2 = tf.concat(1, [tf.ones([m, 1], tf.float64), tf.sigmoid(z2)])\n",
    "z3 = tf.matmul(a2, tf.transpose(theta2))\n",
    "a3 = tf.sigmoid(z3)\n",
    "\n",
    "cost = tf.reduce_sum(-Y * tf.log(a3) - (1 - Y) * tf.log(1 - a3)) / m\n",
    "accuracy = tf.reduce_mean(tf.cast(tf.equal(tf.argmax(a3, 1), tf.argmax(Y, 1)), tf.float32))\n",
    "d3 = a3 - Y\n",
    "d2 = tf.slice(tf.matmul(d3, theta2), [0, 1], [-1, -1]) * siggrad(z2)\n",
    "Delta1 = tf.matmul(tf.transpose(d2), input_layer) / m\n",
    "Delta2 = tf.matmul(tf.transpose(d3), a2) / m\n",
    "\n",
    "alpha = 0.9\n",
    "\n",
    "train = [\n",
    "    tf.assign(theta1, theta1 - alpha * Delta1),\n",
    "    tf.assign(theta2, theta2 - alpha * Delta2),\n",
    "    Delta1,\n",
    "    cost,\n",
    "    accuracy\n",
    "]\n",
    "\n",
    "init = tf.initialize_all_variables()\n",
    "sess = tf.Session()\n",
    "sess.run(init)\n",
    "accuracies = []\n",
    "\n",
    "for i in range(15500):\n",
    "    a, b, dd, c, d = sess.run(train)\n",
    "    accuracies.append(d)\n",
    "\n",
    "plt.plot(accuracies)\n",
    "\n",
    "print \"Accuracy: %f\", sess.run(accuracy)"
   ]
  },
  {
   "cell_type": "code",
   "execution_count": 5,
   "metadata": {
    "collapsed": false
   },
   "outputs": [
    {
     "name": "stdout",
     "output_type": "stream",
     "text": [
      "Element: 6673. NG = 0.006453. BG = 0.006453.\n",
      "Element: 9501. NG = 0.000169. BG = 0.000169.\n",
      "Element: 1063. NG = -0.000061. BG = -0.000061.\n",
      "Element: 6342. NG = 0.006626. BG = 0.006626.\n",
      "Element: 2483. NG = 0.001400. BG = 0.001400.\n",
      "Element: 6395. NG = 0.000007. BG = 0.000007.\n",
      "Element: 7915. NG = -0.013975. BG = -0.013975.\n",
      "Element: 4332. NG = -0.000009. BG = -0.000009.\n",
      "Element: 5871. NG = -0.049531. BG = -0.049531.\n",
      "Element: 4591. NG = 0.001953. BG = 0.001953.\n"
     ]
    }
   ],
   "source": [
    "def calculate_cost(theta):\n",
    "    theta1 = tf.reshape(tf.slice(theta, [0], [number_of_hidden_units * (n + 1)]), [number_of_hidden_units, n + 1])\n",
    "    theta2 = tf.reshape(tf.slice(theta, [number_of_hidden_units * (n + 1)], [number_of_classes * (number_of_hidden_units + 1)]), [number_of_classes, number_of_hidden_units + 1])\n",
    "    z2 = tf.matmul(input_layer, tf.transpose(theta1))\n",
    "    hidden_layer = tf.concat(1, [tf.ones([m, 1], tf.float64), tf.sigmoid(z2)])\n",
    "    h = tf.sigmoid(tf.matmul(hidden_layer, tf.transpose(theta2)))\n",
    "    return tf.reduce_sum(-Y * tf.log(h) - (1 - Y) * tf.log(1 - h)) / m\n",
    "\n",
    "def checkGradient(theta1, theta2, delta1, delta2):\n",
    "    theta = sess.run(tf.concat(0, [\n",
    "                tf.reshape(theta1, [-1]),\n",
    "                tf.reshape(theta2, [-1])\n",
    "                ]))\n",
    "    delta= sess.run(tf.concat(0, [\n",
    "                tf.reshape(delta1, [-1]),\n",
    "                tf.reshape(delta2, [-1])\n",
    "                ]))\n",
    "    els = len(theta)\n",
    "    for i in range(10):\n",
    "        x = int(np.random.rand()*els)\n",
    "        pertub = np.zeros(els)\n",
    "        pertub[x] = 0.0001\n",
    "        loss1, loss2 = sess.run([calculate_cost(theta + pertub), calculate_cost(theta - pertub)])\n",
    "        numgrad = (loss1 - loss2) / float(2*0.0001)\n",
    "        print \"Element: %d. NG = %f. BG = %f.\"%(x,numgrad*1000, delta[x]*1000)\n",
    "\n",
    "checkGradient(theta1, theta2, Delta1, Delta2)"
   ]
  },
  {
   "cell_type": "markdown",
   "metadata": {
    "collapsed": true
   },
   "source": [
    "# Visualize the hidden layer"
   ]
  },
  {
   "cell_type": "code",
   "execution_count": 6,
   "metadata": {
    "collapsed": false
   },
   "outputs": [
    {
     "data": {
      "text/plain": [
       "<matplotlib.image.AxesImage at 0x7f1160f5fe50>"
      ]
     },
     "execution_count": 6,
     "metadata": {},
     "output_type": "execute_result"
    },
    {
     "data": {
      "image/png": "[encoded data removed]",
      "text/plain": [
       "<matplotlib.figure.Figure at 0x7f116eae15d0>"
      ]
     },
     "metadata": {},
     "output_type": "display_data"
    }
   ],
   "source": [
    "raws = np.array(sess.run(theta1))\n",
    "\n",
    "plt.figure(1)\n",
    "plt.subplot(281)\n",
    "plt.axis('off')\n",
    "plt.imshow(raws[10][1:].reshape((20, 20)), cmap='gray')\n",
    "plt.subplot(282)\n",
    "plt.axis('off')\n",
    "plt.imshow(raws[11][1:].reshape((20, 20)), cmap='gray')\n",
    "plt.subplot(283)\n",
    "plt.axis('off')\n",
    "plt.imshow(raws[12][1:].reshape((20, 20)), cmap='gray')\n",
    "plt.subplot(284)\n",
    "plt.axis('off')\n",
    "plt.imshow(raws[13][1:].reshape((20, 20)), cmap='gray')\n",
    "plt.subplot(285)\n",
    "plt.axis('off')\n",
    "plt.imshow(raws[14][1:].reshape((20, 20)), cmap='gray')\n",
    "plt.subplot(286)\n",
    "plt.axis('off')\n",
    "plt.imshow(raws[15][1:].reshape((20, 20)), cmap='gray')\n",
    "plt.subplot(287)\n",
    "plt.axis('off')\n",
    "plt.imshow(raws[16][1:].reshape((20, 20)), cmap='gray')\n",
    "plt.subplot(288)\n",
    "plt.axis('off')\n",
    "plt.imshow(raws[17][1:].reshape((20, 20)), cmap='gray')\n",
    "plt.subplot(381)\n",
    "plt.axis('off')\n",
    "plt.imshow(raws[20][1:].reshape((20, 20)), cmap='gray')\n",
    "plt.subplot(382)\n",
    "plt.axis('off')\n",
    "plt.imshow(raws[21][1:].reshape((20, 20)), cmap='gray')\n",
    "plt.subplot(383)\n",
    "plt.axis('off')\n",
    "plt.imshow(raws[22][1:].reshape((20, 20)), cmap='gray')\n",
    "plt.subplot(384)\n",
    "plt.axis('off')\n",
    "plt.imshow(raws[23][1:].reshape((20, 20)), cmap='gray')\n",
    "plt.subplot(385)\n",
    "plt.axis('off')\n",
    "plt.imshow(raws[24][1:].reshape((20, 20)), cmap='gray')\n",
    "plt.subplot(386)\n",
    "plt.axis('off')\n",
    "plt.imshow(raws[0][1:].reshape((20, 20)), cmap='gray')\n",
    "plt.subplot(387)\n",
    "plt.axis('off')\n",
    "plt.imshow(raws[1][1:].reshape((20, 20)), cmap='gray')\n",
    "plt.subplot(388)\n",
    "plt.axis('off')\n",
    "plt.imshow(raws[2][1:].reshape((20, 20)), cmap='gray')\n"
   ]
  },
  {
   "cell_type": "markdown",
   "metadata": {},
   "source": [
    "# Building a network in TF"
   ]
  },
  {
   "cell_type": "code",
   "execution_count": 41,
   "metadata": {
    "collapsed": false
   },
   "outputs": [],
   "source": [
    "number_of_hidden_units_1 = 25\n",
    "number_of_hidden_units_2 = 45\n",
    "number_of_classes = 10\n",
    "\n",
    "theta1 = tf.Variable(tf.random_uniform([number_of_hidden_units_1, n+1], 0, 0.12, dtype=tf.float64))\n",
    "theta2 = tf.Variable(tf.random_uniform([number_of_hidden_units_2, number_of_hidden_units_1 + 1], 0, 0.12, dtype=tf.float64))\n",
    "theta3 = tf.Variable(tf.random_uniform([number_of_classes, number_of_hidden_units_2 + 1], dtype=tf.float64))\n",
    "X = tf.placeholder(tf.float64)\n",
    "Y = tf.placeholder(tf.int32)\n",
    "input_layer = tf.concat(1, [tf.ones([m, 1], tf.float64), X])\n",
    "Yy = tf.slice(tf.reshape(tf.one_hot(Y, 11, dtype=tf.float64), [m, 11]), [0, 1], [-1, 10])\n",
    "\n",
    "z2 = tf.matmul(input_layer, tf.transpose(theta1))\n",
    "a2 = tf.concat(1, [tf.ones([m, 1], tf.float64), tf.sigmoid(z2)])\n",
    "z3 = tf.matmul(a2, tf.transpose(theta2))\n",
    "a3 = tf.concat(1, [tf.ones([m, 1], tf.float64), tf.sigmoid(z3)])\n",
    "z4 = tf.matmul(a3, tf.transpose(theta3))\n",
    "a4 = tf.sigmoid(z4)\n",
    "\n",
    "cost = tf.reduce_sum(-Yy * tf.log(a4) - (1 - Yy) * tf.log(1 - a4)) / m\n",
    "accuracy = tf.reduce_mean(tf.cast(tf.equal(tf.argmax(a4, 1), tf.argmax(Yy, 1)), tf.float32))\n",
    "\n",
    "train = tf.train.MomentumOptimizer(0.6, 0.1).minimize(cost)\n",
    "\n",
    "init = tf.initialize_all_variables()\n",
    "sess = tf.Session()\n",
    "sess.run(init)\n",
    "\n",
    "accuracies = []\n",
    "for i in range(5300):\n",
    "    _, d = sess.run([train, accuracy], { X: x, Y: y})\n",
    "    accuracies.append(d)"
   ]
  },
  {
   "cell_type": "code",
   "execution_count": 42,
   "metadata": {
    "collapsed": false
   },
   "outputs": [
    {
     "name": "stdout",
     "output_type": "stream",
     "text": [
      "0.995\n"
     ]
    },
    {
     "data": {
      "image/png": "[encoded data removed]",
      "text/plain": [
       "<matplotlib.figure.Figure at 0x7f113eac49d0>"
      ]
     },
     "metadata": {},
     "output_type": "display_data"
    }
   ],
   "source": [
    "plt.plot(accuracies)\n",
    "print(accuracies[-1])"
   ]
  },
  {
   "cell_type": "code",
   "execution_count": null,
   "metadata": {
    "collapsed": true
   },
   "outputs": [],
   "source": []
  }
 ],
 "metadata": {
  "kernelspec": {
   "display_name": "Python 2",
   "language": "python",
   "name": "python2"
  },
  "language_info": {
   "codemirror_mode": {
    "name": "ipython",
    "version": 2
   },
   "file_extension": ".py",
   "mimetype": "text/x-python",
   "name": "python",
   "nbconvert_exporter": "python",
   "pygments_lexer": "ipython2",
   "version": "2.7.6"
  }
 },
 "nbformat": 4,
 "nbformat_minor": 1
}
