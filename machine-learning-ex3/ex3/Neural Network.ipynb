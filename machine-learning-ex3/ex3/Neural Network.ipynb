{
 "cells": [
  {
   "cell_type": "code",
   "execution_count": 3,
   "metadata": {
    "collapsed": true
   },
   "outputs": [],
   "source": [
    "%matplotlib inline\n",
    "import numpy as np\n",
    "import scipy.io\n",
    "import matplotlib.pyplot as plt\n",
    "import tensorflow as tf\n",
    "m = 5000\n",
    "n = 400\n",
    "alpha = 0.0011\n",
    "mat = scipy.io.loadmat('ex3data1.mat')\n",
    "x = mat['X']\n",
    "y = mat['y']\n",
    "mat = scipy.io.loadmat('ex3weights.mat')\n",
    "theta1 = mat['Theta1']\n",
    "theta2 = mat['Theta2']"
   ]
  },
  {
   "cell_type": "code",
   "execution_count": 39,
   "metadata": {
    "collapsed": false
   },
   "outputs": [
    {
     "data": {
      "text/plain": [
       "0.9752"
      ]
     },
     "execution_count": 39,
     "metadata": {},
     "output_type": "execute_result"
    }
   ],
   "source": [
    "X = tf.Variable(x, dtype=tf.float64)\n",
    "Y = tf.Variable(y, dtype=tf.int32)\n",
    "\n",
    "first_layer = tf.concat(1, [tf.ones([m, 1], tf.float64), X])\n",
    "second_layer = tf.concat(1, [tf.ones([m, 1], tf.float64), tf.sigmoid(tf.matmul(first_layer, tf.transpose(theta1)))])\n",
    "output_layer = tf.sigmoid(tf.matmul(second_layer, tf.transpose(theta2)))\n",
    "predictions = tf.cast(tf.argmax(output_layer, 1) + 1, tf.int32)\n",
    "accuracy = tf.reduce_mean(tf.cast(tf.equal(tf.reshape(predictions, [m, 1]), Y), tf.float32))\n",
    "init = tf.initialize_all_variables()\n",
    "sess = tf.Session()\n",
    "sess.run(init)\n",
    "sess.run(accuracy)"
   ]
  },
  {
   "cell_type": "code",
   "execution_count": null,
   "metadata": {
    "collapsed": true
   },
   "outputs": [],
   "source": []
  }
 ],
 "metadata": {
  "kernelspec": {
   "display_name": "Python 2",
   "language": "python",
   "name": "python2"
  },
  "language_info": {
   "codemirror_mode": {
    "name": "ipython",
    "version": 2
   },
   "file_extension": ".py",
   "mimetype": "text/x-python",
   "name": "python",
   "nbconvert_exporter": "python",
   "pygments_lexer": "ipython2",
   "version": "2.7.6"
  }
 },
 "nbformat": 4,
 "nbformat_minor": 1
}
